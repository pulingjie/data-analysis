{
 "cells": [
  {
   "cell_type": "code",
   "execution_count": 2,
   "metadata": {},
   "outputs": [],
   "source": [
    "import numpy as np\n",
    "import pandas as pd"
   ]
  },
  {
   "cell_type": "code",
   "execution_count": null,
   "metadata": {},
   "outputs": [],
   "source": [
    "house_prices_trian=pd.read_csv('C:/Users/plj/Desktop/Jupyter/train.csv',esp='?')  #esp='?'表示用？作为分隔符"
   ]
  },
  {
   "cell_type": "code",
   "execution_count": null,
   "metadata": {},
   "outputs": [],
   "source": [
    "house_prices_trian=pd.read_csv('C:/Users/plj/Desktop/Jupyter/train.csv',skiprows=[0,1])  #skiprows跳过第[0,1]行"
   ]
  },
  {
   "cell_type": "code",
   "execution_count": null,
   "metadata": {},
   "outputs": [],
   "source": [
    "house_prices_trian=pd.read_csv('C:/Users/plj/Desktop/Jupyter/train.csv',skip_footer=1，engine='python')  #skip_footer跳过倒数第1行\n",
    "                                                                                                         #用'python'实现"
   ]
  },
  {
   "cell_type": "code",
   "execution_count": null,
   "metadata": {},
   "outputs": [],
   "source": [
    "house_prices_trian=pd.read_csv('C:/Users/plj/Desktop/Jupyter/train.csv',nrows=5)        # nrows读取前多少行数据（5行）\n",
    "                                                                                        # 随机选取多少行怎么选取？"
   ]
  },
  {
   "cell_type": "code",
   "execution_count": null,
   "metadata": {},
   "outputs": [],
   "source": []
  },
  {
   "cell_type": "code",
   "execution_count": 10,
   "metadata": {},
   "outputs": [
    {
     "data": {
      "text/html": [
       "<div>\n",
       "<style scoped>\n",
       "    .dataframe tbody tr th:only-of-type {\n",
       "        vertical-align: middle;\n",
       "    }\n",
       "\n",
       "    .dataframe tbody tr th {\n",
       "        vertical-align: top;\n",
       "    }\n",
       "\n",
       "    .dataframe thead th {\n",
       "        text-align: right;\n",
       "    }\n",
       "</style>\n",
       "<table border=\"1\" class=\"dataframe\">\n",
       "  <thead>\n",
       "    <tr style=\"text-align: right;\">\n",
       "      <th></th>\n",
       "      <th>返回</th>\n",
       "      <th>Unnamed: 1</th>\n",
       "      <th>Unnamed: 2</th>\n",
       "      <th>Unnamed: 3</th>\n",
       "      <th>Unnamed: 4</th>\n",
       "      <th>Unnamed: 5</th>\n",
       "      <th>Unnamed: 6</th>\n",
       "      <th>Unnamed: 7</th>\n",
       "      <th>Unnamed: 8</th>\n",
       "      <th>2244.792372</th>\n",
       "      <th>...</th>\n",
       "      <th>Unnamed: 44</th>\n",
       "      <th>Unnamed: 45</th>\n",
       "      <th>Unnamed: 46</th>\n",
       "      <th>Unnamed: 47</th>\n",
       "      <th>Unnamed: 48</th>\n",
       "      <th>Unnamed: 49</th>\n",
       "      <th>Unnamed: 50</th>\n",
       "      <th>Unnamed: 51</th>\n",
       "      <th>Unnamed: 52</th>\n",
       "      <th>Unnamed: 53</th>\n",
       "    </tr>\n",
       "  </thead>\n",
       "  <tbody>\n",
       "    <tr>\n",
       "      <th>0</th>\n",
       "      <td>NaN</td>\n",
       "      <td>存量到期续作表</td>\n",
       "      <td>NaN</td>\n",
       "      <td>NaN</td>\n",
       "      <td>静态</td>\n",
       "      <td>NaN</td>\n",
       "      <td>NaN</td>\n",
       "      <td>NaN</td>\n",
       "      <td>NaN</td>\n",
       "      <td>877.931</td>\n",
       "      <td>...</td>\n",
       "      <td>NaN</td>\n",
       "      <td>NaN</td>\n",
       "      <td>NaN</td>\n",
       "      <td>NaN</td>\n",
       "      <td>NaN</td>\n",
       "      <td>NaN</td>\n",
       "      <td>NaN</td>\n",
       "      <td>NaN</td>\n",
       "      <td>NaN</td>\n",
       "      <td>NaN</td>\n",
       "    </tr>\n",
       "    <tr>\n",
       "      <th>1</th>\n",
       "      <td>NaN</td>\n",
       "      <td>NaN</td>\n",
       "      <td>NaN</td>\n",
       "      <td>NaN</td>\n",
       "      <td>NaN</td>\n",
       "      <td>NaN</td>\n",
       "      <td>NaN</td>\n",
       "      <td>0101</td>\n",
       "      <td>1658.84</td>\n",
       "      <td>2244.79</td>\n",
       "      <td>...</td>\n",
       "      <td>NaN</td>\n",
       "      <td>NaN</td>\n",
       "      <td>NaN</td>\n",
       "      <td>NaN</td>\n",
       "      <td>NaN</td>\n",
       "      <td>NaN</td>\n",
       "      <td>NaN</td>\n",
       "      <td>NaN</td>\n",
       "      <td>NaN</td>\n",
       "      <td>NaN</td>\n",
       "    </tr>\n",
       "    <tr>\n",
       "      <th>2</th>\n",
       "      <td>NaN</td>\n",
       "      <td>数据日期：</td>\n",
       "      <td>2018-03-31 00:00:00</td>\n",
       "      <td>NaN</td>\n",
       "      <td>NaN</td>\n",
       "      <td>NaN</td>\n",
       "      <td>NaN</td>\n",
       "      <td>0201</td>\n",
       "      <td>13427.3</td>\n",
       "      <td>18774.9</td>\n",
       "      <td>...</td>\n",
       "      <td>43159</td>\n",
       "      <td>NaN</td>\n",
       "      <td>NaN</td>\n",
       "      <td>预测日期：</td>\n",
       "      <td>43190</td>\n",
       "      <td>币种：</td>\n",
       "      <td>本外币合计</td>\n",
       "      <td>单位</td>\n",
       "      <td>元，%</td>\n",
       "      <td>NaN</td>\n",
       "    </tr>\n",
       "    <tr>\n",
       "      <th>3</th>\n",
       "      <td>NaN</td>\n",
       "      <td>NaN</td>\n",
       "      <td>2018-12-31 00:00:00</td>\n",
       "      <td>NaN</td>\n",
       "      <td>NaN</td>\n",
       "      <td>NaN</td>\n",
       "      <td>NaN</td>\n",
       "      <td>NaN</td>\n",
       "      <td>NaN</td>\n",
       "      <td>NaN</td>\n",
       "      <td>...</td>\n",
       "      <td>NaN</td>\n",
       "      <td>NaN</td>\n",
       "      <td>NaN</td>\n",
       "      <td>NaN</td>\n",
       "      <td>NaN</td>\n",
       "      <td>NaN</td>\n",
       "      <td>NaN</td>\n",
       "      <td>NaN</td>\n",
       "      <td>NaN</td>\n",
       "      <td>NaN</td>\n",
       "    </tr>\n",
       "    <tr>\n",
       "      <th>4</th>\n",
       "      <td>PLA编码</td>\n",
       "      <td>PLA名称</td>\n",
       "      <td>月末余额</td>\n",
       "      <td>次月日均规模</td>\n",
       "      <td>加权平均利率</td>\n",
       "      <td>收付息率</td>\n",
       "      <td>曲线_期限</td>\n",
       "      <td>基准利率</td>\n",
       "      <td>利率调整模式</td>\n",
       "      <td>定价策略</td>\n",
       "      <td>...</td>\n",
       "      <td>次月日均规模</td>\n",
       "      <td>加权平均利率</td>\n",
       "      <td>收付息率</td>\n",
       "      <td>曲线_期限</td>\n",
       "      <td>基准利率</td>\n",
       "      <td>利率调整模式</td>\n",
       "      <td>定价策略</td>\n",
       "      <td>月利息收支</td>\n",
       "      <td>平均原始期限</td>\n",
       "      <td>平均到期期限</td>\n",
       "    </tr>\n",
       "  </tbody>\n",
       "</table>\n",
       "<p>5 rows × 54 columns</p>\n",
       "</div>"
      ],
      "text/plain": [
       "      返回 Unnamed: 1           Unnamed: 2 Unnamed: 3 Unnamed: 4 Unnamed: 5  \\\n",
       "0    NaN    存量到期续作表                  NaN        NaN         静态        NaN   \n",
       "1    NaN        NaN                  NaN        NaN        NaN        NaN   \n",
       "2    NaN      数据日期：  2018-03-31 00:00:00        NaN        NaN        NaN   \n",
       "3    NaN        NaN  2018-12-31 00:00:00        NaN        NaN        NaN   \n",
       "4  PLA编码      PLA名称                 月末余额     次月日均规模     加权平均利率       收付息率   \n",
       "\n",
       "  Unnamed: 6 Unnamed: 7 Unnamed: 8 2244.792372  ... Unnamed: 44 Unnamed: 45  \\\n",
       "0        NaN        NaN        NaN     877.931  ...         NaN         NaN   \n",
       "1        NaN       0101    1658.84     2244.79  ...         NaN         NaN   \n",
       "2        NaN       0201    13427.3     18774.9  ...       43159         NaN   \n",
       "3        NaN        NaN        NaN         NaN  ...         NaN         NaN   \n",
       "4      曲线_期限       基准利率     利率调整模式        定价策略  ...      次月日均规模      加权平均利率   \n",
       "\n",
       "  Unnamed: 46 Unnamed: 47  Unnamed: 48  Unnamed: 49 Unnamed: 50 Unnamed: 51  \\\n",
       "0         NaN         NaN          NaN          NaN         NaN         NaN   \n",
       "1         NaN         NaN          NaN          NaN         NaN         NaN   \n",
       "2         NaN       预测日期：        43190          币种：       本外币合计          单位   \n",
       "3         NaN         NaN          NaN          NaN         NaN         NaN   \n",
       "4        收付息率       曲线_期限         基准利率       利率调整模式        定价策略       月利息收支   \n",
       "\n",
       "  Unnamed: 52 Unnamed: 53  \n",
       "0         NaN         NaN  \n",
       "1         NaN         NaN  \n",
       "2         元，%         NaN  \n",
       "3         NaN         NaN  \n",
       "4      平均原始期限      平均到期期限  \n",
       "\n",
       "[5 rows x 54 columns]"
      ]
     },
     "execution_count": 10,
     "metadata": {},
     "output_type": "execute_result"
    }
   ],
   "source": [
    "bank_data1=pd.read_excel('C:/Users/plj/Desktop/Jupyter/bank_data.xls',sheet_name='Sheet6')\n",
    "bank_data1.head()"
   ]
  },
  {
   "cell_type": "code",
   "execution_count": null,
   "metadata": {},
   "outputs": [],
   "source": [
    "bank_data1=pd.read_json('C:/Users/plj/Desktop/Jupyter/bank_data.json'，) #读取.json文件\n",
    "bank_data1.head(5)\n"
   ]
  },
  {
   "cell_type": "code",
   "execution_count": null,
   "metadata": {},
   "outputs": [],
   "source": []
  },
  {
   "cell_type": "code",
   "execution_count": 1,
   "metadata": {},
   "outputs": [],
   "source": [
    "import sqlite3   #读取数据库"
   ]
  },
  {
   "cell_type": "code",
   "execution_count": 5,
   "metadata": {},
   "outputs": [
    {
     "ename": "NameError",
     "evalue": "name 'bank_data' is not defined",
     "output_type": "error",
     "traceback": [
      "\u001b[1;31m---------------------------------------------------------------------------\u001b[0m",
      "\u001b[1;31mNameError\u001b[0m                                 Traceback (most recent call last)",
      "\u001b[1;32m<ipython-input-5-2ccc81775e62>\u001b[0m in \u001b[0;36m<module>\u001b[1;34m\u001b[0m\n\u001b[0;32m      1\u001b[0m \u001b[0mconnection\u001b[0m\u001b[1;33m=\u001b[0m\u001b[0msqlite3\u001b[0m\u001b[1;33m.\u001b[0m\u001b[0mconnect\u001b[0m\u001b[1;33m(\u001b[0m\u001b[1;34m'C:/Users/plj/Desktop/Jupyter/bank_data.json'\u001b[0m\u001b[1;33m)\u001b[0m\u001b[1;33m\u001b[0m\u001b[1;33m\u001b[0m\u001b[0m\n\u001b[1;32m----> 2\u001b[1;33m \u001b[0mbank_data\u001b[0m\u001b[1;33m.\u001b[0m\u001b[0mto_sql\u001b[0m\u001b[1;33m(\u001b[0m\u001b[1;34m'BANK_DATA'\u001b[0m\u001b[1;33m,\u001b[0m\u001b[0mconnection\u001b[0m\u001b[1;33m,\u001b[0m\u001b[0mif_exists\u001b[0m\u001b[1;33m=\u001b[0m\u001b[1;34m'replace'\u001b[0m\u001b[1;33m)\u001b[0m\u001b[1;33m\u001b[0m\u001b[1;33m\u001b[0m\u001b[0m\n\u001b[0m\u001b[0;32m      3\u001b[0m                                         \u001b[1;31m#if_exists='append'\u001b[0m\u001b[1;33m\u001b[0m\u001b[1;33m\u001b[0m\u001b[1;33m\u001b[0m\u001b[0m\n\u001b[0;32m      4\u001b[0m \u001b[0mconnection\u001b[0m\u001b[1;33m.\u001b[0m\u001b[0mcommit\u001b[0m\u001b[1;33m(\u001b[0m\u001b[1;33m)\u001b[0m\u001b[1;33m\u001b[0m\u001b[1;33m\u001b[0m\u001b[0m\n\u001b[0;32m      5\u001b[0m \u001b[0mconnection\u001b[0m\u001b[1;33m.\u001b[0m\u001b[0mclose\u001b[0m\u001b[1;33m(\u001b[0m\u001b[1;33m)\u001b[0m\u001b[1;33m\u001b[0m\u001b[1;33m\u001b[0m\u001b[0m\n",
      "\u001b[1;31mNameError\u001b[0m: name 'bank_data' is not defined"
     ]
    }
   ],
   "source": [
    "connection=sqlite3.connect('C:/Users/plj/Desktop/Jupyter/bank_data.splite')\n",
    "bank_data.to_sql('BANK_DATA',connection,if_exists='replace')\n",
    "                                        #if_exists='append'\n",
    "connection.commit()\n",
    "connection.close()"
   ]
  },
  {
   "cell_type": "code",
   "execution_count": null,
   "metadata": {},
   "outputs": [],
   "source": [
    "connection=sqlite3.connect('C:/Users/plj/Desktop/Jupyter/bank_data.splite')\n",
    "bank_data_sql=pd.io.sql.read_sql('SELCTE * FROM bank_data')\n",
    "connection.close()\n",
    "bank_data_sql.head()"
   ]
  },
  {
   "cell_type": "code",
   "execution_count": null,
   "metadata": {},
   "outputs": [],
   "source": []
  },
  {
   "cell_type": "code",
   "execution_count": null,
   "metadata": {},
   "outputs": [],
   "source": []
  },
  {
   "cell_type": "code",
   "execution_count": null,
   "metadata": {},
   "outputs": [],
   "source": []
  }
 ],
 "metadata": {
  "kernelspec": {
   "display_name": "Python 3",
   "language": "python",
   "name": "python3"
  },
  "language_info": {
   "codemirror_mode": {
    "name": "ipython",
    "version": 3
   },
   "file_extension": ".py",
   "mimetype": "text/x-python",
   "name": "python",
   "nbconvert_exporter": "python",
   "pygments_lexer": "ipython3",
   "version": "3.8.3"
  }
 },
 "nbformat": 4,
 "nbformat_minor": 4
}
